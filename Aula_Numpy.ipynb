{
  "nbformat": 4,
  "nbformat_minor": 0,
  "metadata": {
    "colab": {
      "name": "Aula 13/05.ipynb",
      "provenance": [],
      "include_colab_link": true
    },
    "kernelspec": {
      "name": "python3",
      "display_name": "Python 3"
    },
    "language_info": {
      "name": "python"
    }
  },
  "cells": [
    {
      "cell_type": "markdown",
      "metadata": {
        "id": "view-in-github",
        "colab_type": "text"
      },
      "source": [
        "<a href=\"https://colab.research.google.com/github/Havokzbr/Trabalhos-Faculdade/blob/main/Aula_Numpy.ipynb\" target=\"_parent\"><img src=\"https://colab.research.google.com/assets/colab-badge.svg\" alt=\"Open In Colab\"/></a>"
      ]
    },
    {
      "cell_type": "code",
      "execution_count": 1,
      "metadata": {
        "id": "uEelOkLqKPS-"
      },
      "outputs": [],
      "source": [
        "import numpy as np\n",
        "\n",
        "# Declarar as matrizes\n",
        "A = np.array([[2,1],[1,2]])\n",
        "B = np.array([[3.5],[2.5]])\n",
        "\n",
        "# Encontrar a inversa de A\n",
        "A_inversa = np.linalg.inv(A)\n",
        "\n",
        "# Encontrar X\n",
        "X = np.dot(A_inversa, B)"
      ]
    },
    {
      "cell_type": "code",
      "source": [
        "print(X)"
      ],
      "metadata": {
        "colab": {
          "base_uri": "https://localhost:8080/"
        },
        "id": "oPsSgiK0LSQq",
        "outputId": "3eaaf962-806d-44a2-cb7a-bad73a4a512b"
      },
      "execution_count": null,
      "outputs": [
        {
          "output_type": "stream",
          "name": "stdout",
          "text": [
            "[[1.5]\n",
            " [0.5]]\n"
          ]
        }
      ]
    },
    {
      "cell_type": "code",
      "source": [
        "import numpy as np\n",
        "print(np.random.randn(10))"
      ],
      "metadata": {
        "colab": {
          "base_uri": "https://localhost:8080/"
        },
        "id": "_tEHJSV98lie",
        "outputId": "6213bd96-4d9a-4c04-dd51-5ed24bf0cc67"
      },
      "execution_count": null,
      "outputs": [
        {
          "output_type": "stream",
          "name": "stdout",
          "text": [
            "[ 0.81089653  0.81219591  0.8499927  -0.63572634 -0.05868181  0.4467852\n",
            "  0.32731551  0.655399    0.77083787  2.58470248]\n"
          ]
        }
      ]
    },
    {
      "cell_type": "markdown",
      "source": [
        "NumPy\n",
        "\n",
        "https://numpy.org/devdocs/user/quickstart.html"
      ],
      "metadata": {
        "id": "nC3r6OOsH6ae"
      }
    },
    {
      "cell_type": "code",
      "source": [
        "import numpy as np\n",
        "a = np.arange(15).reshape(3, 5)\n",
        "print('matriz =',a)\n",
        "print()\n",
        "print('linhas x colunas = ',a.shape)\n",
        "print()\n",
        "print('dimensões = ',a.ndim)\n",
        "print()\n",
        "print('tipo dos elementos =',a.dtype.name)\n",
        "print()\n",
        "print('tamanho em bytes de cada elemento =',a.itemsize)\n",
        "print()\n",
        "print('quantidade de elementos na matriz =',a.size)\n",
        "print()\n",
        "print(type(a))\n",
        "print()\n",
        "b = np.array([6, 7, 8])\n",
        "print(type(b))\n"
      ],
      "metadata": {
        "colab": {
          "base_uri": "https://localhost:8080/"
        },
        "id": "4l_gFCeQGG-P",
        "outputId": "55b65d5b-f742-4622-d0de-d1fd7fefea5e"
      },
      "execution_count": null,
      "outputs": [
        {
          "output_type": "stream",
          "name": "stdout",
          "text": [
            "matriz = [[ 0  1  2  3  4]\n",
            " [ 5  6  7  8  9]\n",
            " [10 11 12 13 14]]\n",
            "\n",
            "linhas x colunas =  (3, 5)\n",
            "\n",
            "dimensões =  2\n",
            "\n",
            "tipo dos elementos = int64\n",
            "\n",
            "tamanho em bytes de cada elemento = 8\n",
            "\n",
            "quantidade de elementos na matriz = 15\n",
            "\n",
            "<class 'numpy.ndarray'>\n",
            "\n",
            "<class 'numpy.ndarray'>\n"
          ]
        }
      ]
    }
  ]
}